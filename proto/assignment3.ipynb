{
 "cells": [
  {
   "cell_type": "code",
   "execution_count": 1,
   "metadata": {},
   "outputs": [],
   "source": [
    "import pandas as pd\n",
    "import numpy as np\n",
    "from itertools import product"
   ]
  },
  {
   "cell_type": "code",
   "execution_count": 2,
   "metadata": {},
   "outputs": [],
   "source": [
    "sales = pd.read_csv('/Users/sinsakuokazaki/Project/pred-future-sales/\\\n",
    "input/competitive-data-science-predict-future-sales/sales_train.csv')\n"
   ]
  },
  {
   "cell_type": "code",
   "execution_count": 3,
   "metadata": {},
   "outputs": [
    {
     "data": {
      "text/html": [
       "<div>\n",
       "<style scoped>\n",
       "    .dataframe tbody tr th:only-of-type {\n",
       "        vertical-align: middle;\n",
       "    }\n",
       "\n",
       "    .dataframe tbody tr th {\n",
       "        vertical-align: top;\n",
       "    }\n",
       "\n",
       "    .dataframe thead th {\n",
       "        text-align: right;\n",
       "    }\n",
       "</style>\n",
       "<table border=\"1\" class=\"dataframe\">\n",
       "  <thead>\n",
       "    <tr style=\"text-align: right;\">\n",
       "      <th></th>\n",
       "      <th>date</th>\n",
       "      <th>date_block_num</th>\n",
       "      <th>shop_id</th>\n",
       "      <th>item_id</th>\n",
       "      <th>item_price</th>\n",
       "      <th>item_cnt_day</th>\n",
       "      <th>dayofweek</th>\n",
       "      <th>dayofmonth</th>\n",
       "      <th>month</th>\n",
       "      <th>quarter</th>\n",
       "      <th>year</th>\n",
       "      <th>minute</th>\n",
       "      <th>hour</th>\n",
       "      <th>total_sales</th>\n",
       "      <th>shop_name</th>\n",
       "      <th>item_name</th>\n",
       "      <th>item_category_id</th>\n",
       "      <th>item_category_name</th>\n",
       "    </tr>\n",
       "  </thead>\n",
       "  <tbody>\n",
       "    <tr>\n",
       "      <th>0</th>\n",
       "      <td>2013-01-02</td>\n",
       "      <td>0</td>\n",
       "      <td>59</td>\n",
       "      <td>22154</td>\n",
       "      <td>999.00</td>\n",
       "      <td>1.0</td>\n",
       "      <td>2</td>\n",
       "      <td>2</td>\n",
       "      <td>1</td>\n",
       "      <td>1</td>\n",
       "      <td>2013</td>\n",
       "      <td>0</td>\n",
       "      <td>0</td>\n",
       "      <td>999.00</td>\n",
       "      <td>Ярославль ТЦ \"Альтаир\"</td>\n",
       "      <td>ЯВЛЕНИЕ 2012 (BD)</td>\n",
       "      <td>37</td>\n",
       "      <td>Кино - Blu-Ray</td>\n",
       "    </tr>\n",
       "    <tr>\n",
       "      <th>1</th>\n",
       "      <td>2013-01-03</td>\n",
       "      <td>0</td>\n",
       "      <td>25</td>\n",
       "      <td>2552</td>\n",
       "      <td>899.00</td>\n",
       "      <td>1.0</td>\n",
       "      <td>3</td>\n",
       "      <td>3</td>\n",
       "      <td>1</td>\n",
       "      <td>1</td>\n",
       "      <td>2013</td>\n",
       "      <td>0</td>\n",
       "      <td>0</td>\n",
       "      <td>899.00</td>\n",
       "      <td>Москва ТРК \"Атриум\"</td>\n",
       "      <td>DEEP PURPLE  The House Of Blue Light  LP</td>\n",
       "      <td>58</td>\n",
       "      <td>Музыка - Винил</td>\n",
       "    </tr>\n",
       "    <tr>\n",
       "      <th>2</th>\n",
       "      <td>2013-01-05</td>\n",
       "      <td>0</td>\n",
       "      <td>25</td>\n",
       "      <td>2552</td>\n",
       "      <td>899.00</td>\n",
       "      <td>-1.0</td>\n",
       "      <td>5</td>\n",
       "      <td>5</td>\n",
       "      <td>1</td>\n",
       "      <td>1</td>\n",
       "      <td>2013</td>\n",
       "      <td>0</td>\n",
       "      <td>0</td>\n",
       "      <td>-899.00</td>\n",
       "      <td>Москва ТРК \"Атриум\"</td>\n",
       "      <td>DEEP PURPLE  The House Of Blue Light  LP</td>\n",
       "      <td>58</td>\n",
       "      <td>Музыка - Винил</td>\n",
       "    </tr>\n",
       "    <tr>\n",
       "      <th>3</th>\n",
       "      <td>2013-01-06</td>\n",
       "      <td>0</td>\n",
       "      <td>25</td>\n",
       "      <td>2554</td>\n",
       "      <td>1709.05</td>\n",
       "      <td>1.0</td>\n",
       "      <td>6</td>\n",
       "      <td>6</td>\n",
       "      <td>1</td>\n",
       "      <td>1</td>\n",
       "      <td>2013</td>\n",
       "      <td>0</td>\n",
       "      <td>0</td>\n",
       "      <td>1709.05</td>\n",
       "      <td>Москва ТРК \"Атриум\"</td>\n",
       "      <td>DEEP PURPLE  Who Do You Think We Are  LP</td>\n",
       "      <td>58</td>\n",
       "      <td>Музыка - Винил</td>\n",
       "    </tr>\n",
       "    <tr>\n",
       "      <th>4</th>\n",
       "      <td>2013-01-15</td>\n",
       "      <td>0</td>\n",
       "      <td>25</td>\n",
       "      <td>2555</td>\n",
       "      <td>1099.00</td>\n",
       "      <td>1.0</td>\n",
       "      <td>1</td>\n",
       "      <td>15</td>\n",
       "      <td>1</td>\n",
       "      <td>1</td>\n",
       "      <td>2013</td>\n",
       "      <td>0</td>\n",
       "      <td>0</td>\n",
       "      <td>1099.00</td>\n",
       "      <td>Москва ТРК \"Атриум\"</td>\n",
       "      <td>DEEP PURPLE 30 Very Best Of 2CD (Фирм.)</td>\n",
       "      <td>56</td>\n",
       "      <td>Музыка - CD фирменного производства</td>\n",
       "    </tr>\n",
       "  </tbody>\n",
       "</table>\n",
       "</div>"
      ],
      "text/plain": [
       "         date  date_block_num  shop_id  item_id  item_price  item_cnt_day  \\\n",
       "0  2013-01-02               0       59    22154      999.00           1.0   \n",
       "1  2013-01-03               0       25     2552      899.00           1.0   \n",
       "2  2013-01-05               0       25     2552      899.00          -1.0   \n",
       "3  2013-01-06               0       25     2554     1709.05           1.0   \n",
       "4  2013-01-15               0       25     2555     1099.00           1.0   \n",
       "\n",
       "   dayofweek  dayofmonth  month  quarter  year  minute  hour  total_sales  \\\n",
       "0          2           2      1        1  2013       0     0       999.00   \n",
       "1          3           3      1        1  2013       0     0       899.00   \n",
       "2          5           5      1        1  2013       0     0      -899.00   \n",
       "3          6           6      1        1  2013       0     0      1709.05   \n",
       "4          1          15      1        1  2013       0     0      1099.00   \n",
       "\n",
       "                shop_name                                 item_name  \\\n",
       "0  Ярославль ТЦ \"Альтаир\"                         ЯВЛЕНИЕ 2012 (BD)   \n",
       "1     Москва ТРК \"Атриум\"  DEEP PURPLE  The House Of Blue Light  LP   \n",
       "2     Москва ТРК \"Атриум\"  DEEP PURPLE  The House Of Blue Light  LP   \n",
       "3     Москва ТРК \"Атриум\"  DEEP PURPLE  Who Do You Think We Are  LP   \n",
       "4     Москва ТРК \"Атриум\"   DEEP PURPLE 30 Very Best Of 2CD (Фирм.)   \n",
       "\n",
       "   item_category_id                   item_category_name  \n",
       "0                37                       Кино - Blu-Ray  \n",
       "1                58                       Музыка - Винил  \n",
       "2                58                       Музыка - Винил  \n",
       "3                58                       Музыка - Винил  \n",
       "4                56  Музыка - CD фирменного производства  "
      ]
     },
     "execution_count": 3,
     "metadata": {},
     "output_type": "execute_result"
    }
   ],
   "source": [
    "sales.head()"
   ]
  },
  {
   "cell_type": "code",
   "execution_count": 4,
   "metadata": {},
   "outputs": [
    {
     "name": "stderr",
     "output_type": "stream",
     "text": [
      "/anaconda3/lib/python3.6/site-packages/pandas/core/groupby/groupby.py:4658: FutureWarning: using a dict with renaming is deprecated and will be removed in a future version\n",
      "  return super(DataFrameGroupBy, self).aggregate(arg, *args, **kwargs)\n"
     ]
    }
   ],
   "source": [
    "index_cols = ['shop_id', 'item_id', 'date_block_num']\n",
    "\n",
    "# For every month we create a grid from all shops/items combinations from that month\n",
    "grid = [] \n",
    "for block_num in sales['date_block_num'].unique():\n",
    "    cur_shops = sales[sales['date_block_num']==block_num]['shop_id'].unique()\n",
    "    cur_items = sales[sales['date_block_num']==block_num]['item_id'].unique()\n",
    "    grid.append(np.array(list(product(*[cur_shops, cur_items, [block_num]])),dtype='int32'))\n",
    "\n",
    "#turn the grid into pandas dataframe\n",
    "grid = pd.DataFrame(np.vstack(grid), columns = index_cols,dtype=np.int32)\n",
    "\n",
    "#get aggregated values for (shop_id, item_id, month)\n",
    "gb = sales.groupby(index_cols,as_index=False).agg({'item_cnt_day':{'target':'sum'}})\n",
    "\n",
    "#fix column names\n",
    "gb.columns = [col[0] if col[-1]=='' else col[-1] for col in gb.columns.values]\n",
    "#join aggregated data to the grid\n",
    "all_data = pd.merge(grid,gb,how='left',on=index_cols).fillna(0)\n",
    "#sort the data\n",
    "all_data.sort_values(['date_block_num','shop_id','item_id'],inplace=True)"
   ]
  },
  {
   "cell_type": "code",
   "execution_count": 28,
   "metadata": {},
   "outputs": [],
   "source": [
    "from sklearn.model_selection import KFold\n",
    "y = all_data[\"target\"].values\n",
    "X = all_data.drop([\"target\"], axis = 1).values\n",
    "kfl = KFold(5, shuffle=False, random_state=123)"
   ]
  },
  {
   "cell_type": "code",
   "execution_count": 29,
   "metadata": {},
   "outputs": [],
   "source": [
    "all_data_new = all_data.copy()\n",
    "all_data_new['item_target_emc'] = np.nan"
   ]
  },
  {
   "cell_type": "code",
   "execution_count": 30,
   "metadata": {},
   "outputs": [
    {
     "name": "stdout",
     "output_type": "stream",
     "text": [
      "0 fold\n",
      "1 fold\n",
      "2 fold\n",
      "3 fold\n",
      "4 fold\n",
      "-0.006492061332241811\n"
     ]
    }
   ],
   "source": [
    "fold = 0\n",
    "for tr_ind, val_ind in kfl.split(X, y):\n",
    "    print(\"{} fold\".format(fold))\n",
    "    X_tr, X_val = all_data.iloc[tr_ind], all_data.iloc[val_ind]\n",
    "    means = X_val[\"item_id\"].map(X_tr.groupby(\"item_id\")[\"target\"].transform(\"mean\"))\n",
    "    all_data_new.loc[val_ind, \"item_target_enc\"] = means\n",
    "    fold += 1\n",
    "all_data_new['item_target_enc'].fillna(0.3343, inplace=True) \n",
    "encoded_feature = all_data_new['item_target_enc'].values\n",
    "# You will need to compute correlation like that\n",
    "corr = np.corrcoef(all_data['target'].values, encoded_feature)[0][1]\n",
    "print(corr)"
   ]
  },
  {
   "cell_type": "code",
   "execution_count": 40,
   "metadata": {},
   "outputs": [],
   "source": [
    "all_data_new2 = all_data.copy()\n",
    "target_sum = all_data_new2.groupby(\"item_id\")[\"target\"].sum()\n",
    "n_objects = all_data_new2.groupby(\"item_id\")[\"target\"].count()"
   ]
  },
  {
   "cell_type": "code",
   "execution_count": 43,
   "metadata": {},
   "outputs": [
    {
     "data": {
      "text/plain": [
       "50"
      ]
     },
     "execution_count": 43,
     "metadata": {},
     "output_type": "execute_result"
    }
   ],
   "source": [
    "n_objects[0]"
   ]
  },
  {
   "cell_type": "code",
   "execution_count": 42,
   "metadata": {},
   "outputs": [
    {
     "data": {
      "text/plain": [
       "1.0"
      ]
     },
     "execution_count": 42,
     "metadata": {},
     "output_type": "execute_result"
    }
   ],
   "source": [
    "target_sum[0]"
   ]
  },
  {
   "cell_type": "code",
   "execution_count": 39,
   "metadata": {},
   "outputs": [
    {
     "name": "stdout",
     "output_type": "stream",
     "text": [
      "<pandas.core.groupby.groupby.SeriesGroupBy object at 0x10c171cc0>\n"
     ]
    }
   ],
   "source": [
    "all_data_new2.groupby(\"item_id\")[\"target\"].app"
   ]
  },
  {
   "cell_type": "code",
   "execution_count": 49,
   "metadata": {},
   "outputs": [
    {
     "data": {
      "text/html": [
       "<div>\n",
       "<style scoped>\n",
       "    .dataframe tbody tr th:only-of-type {\n",
       "        vertical-align: middle;\n",
       "    }\n",
       "\n",
       "    .dataframe tbody tr th {\n",
       "        vertical-align: top;\n",
       "    }\n",
       "\n",
       "    .dataframe thead th {\n",
       "        text-align: right;\n",
       "    }\n",
       "</style>\n",
       "<table border=\"1\" class=\"dataframe\">\n",
       "  <thead>\n",
       "    <tr style=\"text-align: right;\">\n",
       "      <th></th>\n",
       "      <th>shop_id</th>\n",
       "      <th>item_id</th>\n",
       "      <th>date_block_num</th>\n",
       "      <th>target</th>\n",
       "    </tr>\n",
       "  </thead>\n",
       "  <tbody>\n",
       "    <tr>\n",
       "      <th>139255</th>\n",
       "      <td>0</td>\n",
       "      <td>19</td>\n",
       "      <td>0</td>\n",
       "      <td>0.0</td>\n",
       "    </tr>\n",
       "    <tr>\n",
       "      <th>141495</th>\n",
       "      <td>0</td>\n",
       "      <td>27</td>\n",
       "      <td>0</td>\n",
       "      <td>0.0</td>\n",
       "    </tr>\n",
       "    <tr>\n",
       "      <th>144968</th>\n",
       "      <td>0</td>\n",
       "      <td>28</td>\n",
       "      <td>0</td>\n",
       "      <td>0.0</td>\n",
       "    </tr>\n",
       "    <tr>\n",
       "      <th>142661</th>\n",
       "      <td>0</td>\n",
       "      <td>29</td>\n",
       "      <td>0</td>\n",
       "      <td>0.0</td>\n",
       "    </tr>\n",
       "    <tr>\n",
       "      <th>138947</th>\n",
       "      <td>0</td>\n",
       "      <td>32</td>\n",
       "      <td>0</td>\n",
       "      <td>6.0</td>\n",
       "    </tr>\n",
       "  </tbody>\n",
       "</table>\n",
       "</div>"
      ],
      "text/plain": [
       "        shop_id  item_id  date_block_num  target\n",
       "139255        0       19               0     0.0\n",
       "141495        0       27               0     0.0\n",
       "144968        0       28               0     0.0\n",
       "142661        0       29               0     0.0\n",
       "138947        0       32               0     6.0"
      ]
     },
     "execution_count": 49,
     "metadata": {},
     "output_type": "execute_result"
    }
   ],
   "source": [
    "all_data_new2.head()"
   ]
  },
  {
   "cell_type": "code",
   "execution_count": 55,
   "metadata": {},
   "outputs": [],
   "source": [
    "all_data_new2 = all_data.copy()\n",
    "target_sum = all_data_new2.groupby(\"item_id\")[\"target\"].sum()\n",
    "n_objects = all_data_new2.groupby(\"item_id\")[\"target\"].count()\n",
    "all_data_new2[\"item_target_enc2\"] = all_data_new2.apply(lambda x: (target_sum[x['item_id']] - x['target']) \\\n",
    "                                                        / n_objects[x['item_id']], axis = 1) "
   ]
  },
  {
   "cell_type": "code",
   "execution_count": 56,
   "metadata": {},
   "outputs": [
    {
     "name": "stdout",
     "output_type": "stream",
     "text": [
      "0.4803928066198171\n"
     ]
    }
   ],
   "source": [
    "encoded_feature =  all_data_new2['item_target_enc2'].values\n",
    "corr = np.corrcoef(all_data['target'].values, encoded_feature)[0][1]\n",
    "print(corr)"
   ]
  },
  {
   "cell_type": "code",
   "execution_count": 59,
   "metadata": {},
   "outputs": [],
   "source": [
    "all_data_new4 = all_data.copy()\n"
   ]
  },
  {
   "cell_type": "code",
   "execution_count": 69,
   "metadata": {},
   "outputs": [],
   "source": [
    "cumsum = all_data_new4.groupby(\"item_id\")[\"target\"].cumsum() - all_data_new4[\"target\"]"
   ]
  },
  {
   "cell_type": "code",
   "execution_count": 70,
   "metadata": {},
   "outputs": [
    {
     "data": {
      "text/plain": [
       "139255         0.0\n",
       "141495         0.0\n",
       "144968         0.0\n",
       "142661         0.0\n",
       "138947         0.0\n",
       "138948         0.0\n",
       "138949         0.0\n",
       "139247         0.0\n",
       "142672         0.0\n",
       "142065         0.0\n",
       "139208         0.0\n",
       "142670         0.0\n",
       "139207         0.0\n",
       "138950         0.0\n",
       "143764         0.0\n",
       "141505         0.0\n",
       "139199         0.0\n",
       "138952         0.0\n",
       "139176         0.0\n",
       "138951         0.0\n",
       "139177         0.0\n",
       "139178         0.0\n",
       "139179         0.0\n",
       "143769         0.0\n",
       "142671         0.0\n",
       "144539         0.0\n",
       "139180         0.0\n",
       "138953         0.0\n",
       "144265         0.0\n",
       "141744         0.0\n",
       "             ...  \n",
       "10772600    1209.0\n",
       "10770510     126.0\n",
       "10769953     108.0\n",
       "10769955    1664.0\n",
       "10768833     184.0\n",
       "10769961     420.0\n",
       "10770625     143.0\n",
       "10769956     695.0\n",
       "10771598    2807.0\n",
       "10767854    3441.0\n",
       "10768086    5271.0\n",
       "10768087    1191.0\n",
       "10768088    2089.0\n",
       "10767847     389.0\n",
       "10769954     260.0\n",
       "10767848    1707.0\n",
       "10767849     310.0\n",
       "10768089     104.0\n",
       "10770726     131.0\n",
       "10772844     187.0\n",
       "10771530     121.0\n",
       "10768090     351.0\n",
       "10769958     320.0\n",
       "10769959      59.0\n",
       "10769704       1.0\n",
       "10768834     699.0\n",
       "10769024      75.0\n",
       "10769690     493.0\n",
       "10771216     348.0\n",
       "10770511    1320.0\n",
       "Name: target, Length: 10913850, dtype: float64"
      ]
     },
     "execution_count": 70,
     "metadata": {},
     "output_type": "execute_result"
    }
   ],
   "source": [
    "cumsum"
   ]
  },
  {
   "cell_type": "code",
   "execution_count": 62,
   "metadata": {},
   "outputs": [],
   "source": [
    "cumcnt = all_data_new4.groupby(\"item_id\").cumcount()"
   ]
  },
  {
   "cell_type": "code",
   "execution_count": 64,
   "metadata": {},
   "outputs": [
    {
     "data": {
      "text/plain": [
       "139255         0\n",
       "141495         0\n",
       "144968         0\n",
       "142661         0\n",
       "138947         0\n",
       "138948         0\n",
       "138949         0\n",
       "139247         0\n",
       "142672         0\n",
       "142065         0\n",
       "139208         0\n",
       "142670         0\n",
       "139207         0\n",
       "138950         0\n",
       "143764         0\n",
       "141505         0\n",
       "139199         0\n",
       "138952         0\n",
       "139176         0\n",
       "138951         0\n",
       "139177         0\n",
       "139178         0\n",
       "139179         0\n",
       "143769         0\n",
       "142671         0\n",
       "144539         0\n",
       "139180         0\n",
       "138953         0\n",
       "144265         0\n",
       "141744         0\n",
       "            ... \n",
       "10772600    1455\n",
       "10770510     899\n",
       "10769953     214\n",
       "10769955    1220\n",
       "10768833    1124\n",
       "10769961    1134\n",
       "10770625     898\n",
       "10769956     993\n",
       "10771598    1448\n",
       "10767854    1585\n",
       "10768086    1585\n",
       "10768087    1585\n",
       "10768088    1585\n",
       "10767847     171\n",
       "10769954     258\n",
       "10767848     258\n",
       "10767849     351\n",
       "10768089    1075\n",
       "10770726    1034\n",
       "10772844    1585\n",
       "10771530     498\n",
       "10768090    1585\n",
       "10769958     491\n",
       "10769959     536\n",
       "10769704      43\n",
       "10768834     448\n",
       "10769024     128\n",
       "10769690     398\n",
       "10771216    1175\n",
       "10770511    1220\n",
       "Length: 10913850, dtype: int64"
      ]
     },
     "execution_count": 64,
     "metadata": {},
     "output_type": "execute_result"
    }
   ],
   "source": [
    "cumcnt"
   ]
  },
  {
   "cell_type": "code",
   "execution_count": 71,
   "metadata": {},
   "outputs": [
    {
     "name": "stdout",
     "output_type": "stream",
     "text": [
      "0 fold\n",
      "1 fold\n",
      "2 fold\n",
      "3 fold\n",
      "4 fold\n"
     ]
    }
   ],
   "source": [
    "from sklearn.model_selection import KFold\n",
    "y = all_data[\"target\"].values\n",
    "X = all_data.drop([\"target\"], axis = 1).values\n",
    "kfl = KFold(5, shuffle=False, random_state=123)\n",
    "\n",
    "all_data_new = all_data.copy()\n",
    "all_data_new['item_target_emc'] = np.nan\n",
    "\n",
    "fold = 0\n",
    "for tr_ind, val_ind in kfl.split(X, y):\n",
    "    print(\"{} fold\".format(fold))\n",
    "    X_tr, X_val = all_data.iloc[tr_ind], all_data.iloc[val_ind]\n",
    "    means = X_tr.groupby(\"item_id\")[\"target\"].mean()\n",
    "    all_data_new.loc[val_ind, \"item_target_enc\"] = X_val[\"item_id\"].map(means)\n",
    "    fold += 1\n",
    "all_data_new['item_target_enc'].fillna(0.3343, inplace=True) \n",
    "encoded_feature = all_data_new['item_target_enc'].values"
   ]
  },
  {
   "cell_type": "code",
   "execution_count": 72,
   "metadata": {},
   "outputs": [
    {
     "name": "stdout",
     "output_type": "stream",
     "text": [
      "0.4092355966844078\n"
     ]
    }
   ],
   "source": [
    "corr = np.corrcoef(all_data['target'].values, encoded_feature)[0][1]\n",
    "print(corr)"
   ]
  },
  {
   "cell_type": "code",
   "execution_count": null,
   "metadata": {},
   "outputs": [],
   "source": []
  }
 ],
 "metadata": {
  "kernelspec": {
   "display_name": "Python 3",
   "language": "python",
   "name": "python3"
  },
  "language_info": {
   "codemirror_mode": {
    "name": "ipython",
    "version": 3
   },
   "file_extension": ".py",
   "mimetype": "text/x-python",
   "name": "python",
   "nbconvert_exporter": "python",
   "pygments_lexer": "ipython3",
   "version": "3.6.5"
  },
  "latex_envs": {
   "LaTeX_envs_menu_present": true,
   "autoclose": false,
   "autocomplete": true,
   "bibliofile": "biblio.bib",
   "cite_by": "apalike",
   "current_citInitial": 1,
   "eqLabelWithNumbers": true,
   "eqNumInitial": 1,
   "hotkeys": {
    "equation": "Ctrl-E",
    "itemize": "Ctrl-I"
   },
   "labels_anchors": false,
   "latex_user_defs": false,
   "report_style_numbering": false,
   "user_envs_cfg": false
  }
 },
 "nbformat": 4,
 "nbformat_minor": 2
}
