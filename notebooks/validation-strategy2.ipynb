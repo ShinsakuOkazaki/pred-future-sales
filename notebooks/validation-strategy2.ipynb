{
 "cells": [
  {
   "cell_type": "code",
   "execution_count": 1,
   "metadata": {},
   "outputs": [
    {
     "ename": "SyntaxError",
     "evalue": "invalid syntax (<ipython-input-1-6f99b6aafcd4>, line 10)",
     "output_type": "error",
     "traceback": [
      "\u001b[0;36m  File \u001b[0;32m\"<ipython-input-1-6f99b6aafcd4>\"\u001b[0;36m, line \u001b[0;32m10\u001b[0m\n\u001b[0;31m    import\u001b[0m\n\u001b[0m           ^\u001b[0m\n\u001b[0;31mSyntaxError\u001b[0m\u001b[0;31m:\u001b[0m invalid syntax\n"
     ]
    }
   ],
   "source": [
    "import pandas as pd\n",
    "import numpy as np\n",
    "import matplotlib.pyplot as plt\n",
    "import seaborn as sns\n",
    "from sklearn.feature_extraction.text import CountVectorizer\n",
    "import lightgbm\n",
    "from sklearn.metrics import mean_squared_error\n",
    "import warnings\n",
    "import gc\n",
    "import \n",
    "warnings.filterwarnings('ignore')\n",
    "np.random.seed(4590)"
   ]
  },
  {
   "cell_type": "code",
   "execution_count": 3,
   "metadata": {},
   "outputs": [],
   "source": [
    "sales_train = pd.read_csv('/Users/sinsakuokazaki/Project/pred-future-sales/\\\n",
    "input/competitive-data-science-predict-future-sales/sales_train.csv')\n",
    "test = pd.read_csv('/Users/sinsakuokazaki/Project/pred-future-sales/\\\n",
    "input/competitive-data-science-predict-future-sales/test.csv')\n",
    "train = pd.read_csv('/Users/sinsakuokazaki/Project/pred-future-sales/\\\n",
    "input/competitive-data-science-predict-future-sales/train_total.csv')"
   ]
  },
  {
   "cell_type": "code",
   "execution_count": 4,
   "metadata": {},
   "outputs": [],
   "source": [
    "item_categories = pd.read_csv('/Users/sinsakuokazaki/Project/pred-future-sales/\\\n",
    "input/competitive-data-science-predict-future-sales/item_categories.csv')\n",
    "\n",
    "items = pd.read_csv('/Users/sinsakuokazaki/Project/pred-future-sales/\\\n",
    "input/competitive-data-science-predict-future-sales/items.csv')\n",
    "\n",
    "shops = pd.read_csv('/Users/sinsakuokazaki/Project/pred-future-sales/\\\n",
    "input/competitive-data-science-predict-future-sales/shops.csv')"
   ]
  },
  {
   "cell_type": "code",
   "execution_count": 5,
   "metadata": {},
   "outputs": [],
   "source": [
    "items_categories = pd.merge(items, item_categories, how = \"outer\", on = 'item_category_id')"
   ]
  },
  {
   "cell_type": "code",
   "execution_count": 6,
   "metadata": {},
   "outputs": [],
   "source": [
    "vectorizer = CountVectorizer(encoding='koi8r')"
   ]
  },
  {
   "cell_type": "code",
   "execution_count": 7,
   "metadata": {},
   "outputs": [],
   "source": [
    "item_name_vec = vectorizer.fit_transform(items_categories['item_name'])"
   ]
  },
  {
   "cell_type": "code",
   "execution_count": 8,
   "metadata": {},
   "outputs": [],
   "source": [
    "vectorizer_cat = CountVectorizer(encoding='koi8r')\n",
    "item_cat_vec = vectorizer_cat.fit_transform(items_categories['item_category_name'])"
   ]
  },
  {
   "cell_type": "code",
   "execution_count": 9,
   "metadata": {},
   "outputs": [],
   "source": [
    "vectorizer_shop = CountVectorizer(encoding='koi8r')\n",
    "shop_vec = vectorizer_shop.fit_transform(shops['shop_name'])"
   ]
  },
  {
   "cell_type": "code",
   "execution_count": 10,
   "metadata": {},
   "outputs": [],
   "source": [
    "# #train_item_vec = vectorizer.fit_transform(train['item_name'])\n",
    "# test_item_vec = vectorizer.fit_transform(test['item_name'])\n",
    "# sales_item_vec = vectorizer.fit_transform(sales_train['item_name'])\n",
    "# #train_cat_vec = vectorizer_cat.fit_transform(train['item_category_name'])\n",
    "# test_cat_vec = vectorizer_cat.fit_transform(test['item_category_name'])\n",
    "# sales_cat_vec = vectorizer_cat.fit_transform(sales_train['item_category_name'])\n",
    "# #train_shop_vec = vectorizer_shop.fit_transform(train['shop_name'])\n",
    "# test_shop_vec = vectorizer_shop.fit_transform(test['shop_name'])\n",
    "# sales_shop_vec = vectorizer_shop.fit_transform(sales_train['shop_name'])\n",
    "# # item_vec_train = train_item_vec.toarray()\n",
    "# # cat_vec_train = train_cat_vec.toarray()\n",
    "# # shop_vec_train = train_shop_vec.toarray()\n",
    "# item_vec_test = test_item_vec.toarray()\n",
    "# cat_vec_test = test_cat_vec.toarray()\n",
    "# shop_vec_test = test_shop_vec.toarray()\n",
    "# item_vec_sales = sales_item_vec.toarray()\n",
    "# cat_vec_sales = sales_cat_vec.toarray()\n",
    "# shop_vec_sales = sales_shop_vec.toarray()"
   ]
  },
  {
   "cell_type": "code",
   "execution_count": 11,
   "metadata": {},
   "outputs": [],
   "source": [
    "params = {\"max_depth\": 7,\n",
    "         \"min_child_weight\": 15,\n",
    "         'objective':'regression',\n",
    "         'max_depth': -1,\n",
    "         'learning_rate': 0.01,\n",
    "         \"min_child_samples\": 20,\n",
    "         \"boosting\": \"gbdt\",\n",
    "         \"feature_fraction\": 0.9,\n",
    "         \"bagging_freq\": 1,\n",
    "         \"bagging_fraction\": 0.9 ,\n",
    "         \"bagging_seed\": 11,\n",
    "         \"metric\": 'rmse',\n",
    "         \"lambda_l1\": 0.1,\n",
    "         \"verbosity\": -1,\n",
    "         \"nthread\": 4,\n",
    "         \"random_state\": 4590}"
   ]
  },
  {
   "cell_type": "code",
   "execution_count": null,
   "metadata": {},
   "outputs": [
    {
     "name": "stdout",
     "output_type": "stream",
     "text": [
      "fold 0\n",
      "Training until validation scores don't improve for 100 rounds.\n",
      "[100]\ttraining's rmse: 3107.52\tvalid_1's rmse: 3855.03\n",
      "[200]\ttraining's rmse: 2844.53\tvalid_1's rmse: 3778.25\n",
      "[300]\ttraining's rmse: 2726.26\tvalid_1's rmse: 3765.18\n",
      "[400]\ttraining's rmse: 2651.51\tvalid_1's rmse: 3755.22\n",
      "[500]\ttraining's rmse: 2594.95\tvalid_1's rmse: 3748.33\n",
      "[600]\ttraining's rmse: 2552.18\tvalid_1's rmse: 3744.74\n",
      "[700]\ttraining's rmse: 2514.87\tvalid_1's rmse: 3742.68\n",
      "[800]\ttraining's rmse: 2484.1\tvalid_1's rmse: 3739.43\n",
      "[900]\ttraining's rmse: 2454.98\tvalid_1's rmse: 3736.46\n",
      "[1000]\ttraining's rmse: 2430.1\tvalid_1's rmse: 3733.71\n",
      "Did not meet early stopping. Best iteration is:\n",
      "[1000]\ttraining's rmse: 2430.1\tvalid_1's rmse: 3733.71\n",
      "fold 1\n",
      "Training until validation scores don't improve for 100 rounds.\n",
      "[100]\ttraining's rmse: 3303.71\tvalid_1's rmse: 4742.52\n",
      "[200]\ttraining's rmse: 3037.59\tvalid_1's rmse: 4732.18\n",
      "Early stopping, best iteration is:\n",
      "[173]\ttraining's rmse: 3088.03\tvalid_1's rmse: 4726.21\n",
      "fold 2\n",
      "Training until validation scores don't improve for 100 rounds.\n",
      "[100]\ttraining's rmse: 3611.22\tvalid_1's rmse: 2921.65\n",
      "Early stopping, best iteration is:\n",
      "[51]\ttraining's rmse: 3912.83\tvalid_1's rmse: 2812.71\n",
      "fold 3\n"
     ]
    }
   ],
   "source": [
    "month = train.columns[2:36]\n",
    "\n",
    "for fold, i in enumerate(range(0, len(month)-1)):\n",
    "    print('fold {}'.format(fold))\n",
    "    \n",
    "    item_vec_tra = vectorizer.transform(train[train[month[i]].notnull()]['item_name']) \n",
    "    item_arr_tra = item_vec_tra.toarray()\n",
    "    cat_vec_tra = vectorizer_cat.transform(train[train[month[i]].notnull()]['item_category_name']) \n",
    "    cat_arr_tra = cat_vec_tra.toarray()\n",
    "    shop_vec_tra = vectorizer_shop.transform(train[train[month[i]].notnull()]['shop_name']) \n",
    "    shop_arr_tra = shop_vec_tra.toarray()\n",
    "    ids_tra = train[train[month[i]].notnull()][['shop_id', 'item_id']].values\n",
    "    X_cur = np.concatenate((ids_tra, item_arr_tra, cat_arr_tra, shop_arr_tra), axis=1)\n",
    "    Y_cur = train[train[month[i]].notnull()][month[i]].values\n",
    "    del item_vec_tra, cat_vec_tra, shop_vec_tra, ids_tra, \\\n",
    "        item_arr_tra, cat_arr_tra, shop_arr_tra\n",
    "        \n",
    "    if fold == 0:\n",
    "        X_tra = np.empty((0, X_cur.shape[1]))\n",
    "        Y_tra = np.array([])\n",
    "    \n",
    "    X_tra = np.vstack((X_tra, X_cur))\n",
    "    Y_tra = np.append(Y_tra, Y_cur)\n",
    "    del X_cur, Y_cur\n",
    "    \n",
    "    item_vec_val = vectorizer.transform(train[train[month[i+1]].notnull()]['item_name'])\n",
    "    item_arr_val = item_vec_val.toarray()\n",
    "    cat_vec_val = vectorizer_cat.transform(train[train[month[i+1]].notnull()]['item_category_name'])\n",
    "    cat_arr_val = cat_vec_val.toarray()\n",
    "    shop_vec_val = vectorizer_shop.transform(train[train[month[i+1]].notnull()]['shop_name'])\n",
    "    shop_arr_val = shop_vec_val.toarray()\n",
    "    ids_val = train[train[month[i+1]].notnull()][['shop_id', 'item_id']].values\n",
    "    \n",
    "    X_val = np.concatenate((ids_val, item_arr_val, cat_arr_val, shop_arr_val), axis=1)\n",
    "    Y_val = train[train[month[i+1]].notnull()][month[i+1]].values\n",
    "    del item_vec_val, cat_vec_val, shop_vec_val, ids_val, \\\n",
    "        item_arr_val, cat_arr_val, shop_arr_val\n",
    "    \n",
    "    tra_data = lightgbm.Dataset(X_tra, label=Y_tra)\n",
    "    val_data = lightgbm.Dataset(X_val, label=Y_val)\n",
    "    \n",
    "    model = lightgbm.train(params, tra_data, num_boost_round=1000, \\\n",
    "                           valid_sets=[tra_data, val_data],  verbose_eval=100, \\\n",
    "                           early_stopping_rounds = 100)\n",
    "    pred = model.predict(X_val, num_iteration=model.best_iteration)\n",
    "    \n",
    "    np.sqrt(mean_squared_error(pred, Y_val))\n",
    "    \n",
    "    \n",
    "    del X_val, Y_val, tra_data, val_data, model, pred"
   ]
  }
 ],
 "metadata": {
  "kernelspec": {
   "display_name": "Python 3",
   "language": "python",
   "name": "python3"
  },
  "language_info": {
   "codemirror_mode": {
    "name": "ipython",
    "version": 3
   },
   "file_extension": ".py",
   "mimetype": "text/x-python",
   "name": "python",
   "nbconvert_exporter": "python",
   "pygments_lexer": "ipython3",
   "version": "3.6.5"
  },
  "latex_envs": {
   "LaTeX_envs_menu_present": true,
   "autoclose": false,
   "autocomplete": true,
   "bibliofile": "biblio.bib",
   "cite_by": "apalike",
   "current_citInitial": 1,
   "eqLabelWithNumbers": true,
   "eqNumInitial": 1,
   "hotkeys": {
    "equation": "Ctrl-E",
    "itemize": "Ctrl-I"
   },
   "labels_anchors": false,
   "latex_user_defs": false,
   "report_style_numbering": false,
   "user_envs_cfg": false
  }
 },
 "nbformat": 4,
 "nbformat_minor": 2
}
