{
 "cells": [
  {
   "cell_type": "code",
   "execution_count": 2,
   "metadata": {},
   "outputs": [],
   "source": [
    "import numpy as np\n",
    "import pandas as pd\n",
    "working_dir = '~/Project/pred-future-sales'"
   ]
  },
  {
   "cell_type": "code",
   "execution_count": 3,
   "metadata": {},
   "outputs": [],
   "source": [
    "train_test = pd.read_csv(working_dir + '/data/interim/train_test.csv')"
   ]
  },
  {
   "cell_type": "code",
   "execution_count": 4,
   "metadata": {},
   "outputs": [
    {
     "data": {
      "text/html": [
       "<div>\n",
       "<style scoped>\n",
       "    .dataframe tbody tr th:only-of-type {\n",
       "        vertical-align: middle;\n",
       "    }\n",
       "\n",
       "    .dataframe tbody tr th {\n",
       "        vertical-align: top;\n",
       "    }\n",
       "\n",
       "    .dataframe thead th {\n",
       "        text-align: right;\n",
       "    }\n",
       "</style>\n",
       "<table border=\"1\" class=\"dataframe\">\n",
       "  <thead>\n",
       "    <tr style=\"text-align: right;\">\n",
       "      <th></th>\n",
       "      <th>date_block_num</th>\n",
       "      <th>shop_id</th>\n",
       "      <th>item_id</th>\n",
       "      <th>item_cnt_month</th>\n",
       "      <th>city_code</th>\n",
       "      <th>item_category_id</th>\n",
       "      <th>type_code</th>\n",
       "      <th>subtype_code</th>\n",
       "      <th>item_cnt_month_lag_1</th>\n",
       "      <th>item_cnt_month_lag_2</th>\n",
       "      <th>...</th>\n",
       "      <th>item_cnt_month_category_avg_lag_12</th>\n",
       "      <th>item_cnt_month_type_avg_lag_1</th>\n",
       "      <th>item_cnt_month_subtype_avg_lag_1</th>\n",
       "      <th>item_cnt_month_city_avg_lag_1</th>\n",
       "      <th>item_cnt_month_shop_category_avg_lag_1</th>\n",
       "      <th>item_cnt_month_shop_type_avg_lag_1</th>\n",
       "      <th>item_cnt_month_shop_subtype_avg_lag_1</th>\n",
       "      <th>item_cnt_month_item_city_avg_lag_1</th>\n",
       "      <th>delta_item_price_lag</th>\n",
       "      <th>delta_shop_month_revenue_lag_1</th>\n",
       "    </tr>\n",
       "  </thead>\n",
       "  <tbody>\n",
       "    <tr>\n",
       "      <th>0</th>\n",
       "      <td>0</td>\n",
       "      <td>0</td>\n",
       "      <td>19</td>\n",
       "      <td>0.0</td>\n",
       "      <td>29</td>\n",
       "      <td>40</td>\n",
       "      <td>11</td>\n",
       "      <td>6</td>\n",
       "      <td>NaN</td>\n",
       "      <td>NaN</td>\n",
       "      <td>...</td>\n",
       "      <td>NaN</td>\n",
       "      <td>NaN</td>\n",
       "      <td>NaN</td>\n",
       "      <td>NaN</td>\n",
       "      <td>NaN</td>\n",
       "      <td>NaN</td>\n",
       "      <td>NaN</td>\n",
       "      <td>NaN</td>\n",
       "      <td>NaN</td>\n",
       "      <td>NaN</td>\n",
       "    </tr>\n",
       "    <tr>\n",
       "      <th>1</th>\n",
       "      <td>0</td>\n",
       "      <td>0</td>\n",
       "      <td>27</td>\n",
       "      <td>0.0</td>\n",
       "      <td>29</td>\n",
       "      <td>19</td>\n",
       "      <td>5</td>\n",
       "      <td>12</td>\n",
       "      <td>NaN</td>\n",
       "      <td>NaN</td>\n",
       "      <td>...</td>\n",
       "      <td>NaN</td>\n",
       "      <td>NaN</td>\n",
       "      <td>NaN</td>\n",
       "      <td>NaN</td>\n",
       "      <td>NaN</td>\n",
       "      <td>NaN</td>\n",
       "      <td>NaN</td>\n",
       "      <td>NaN</td>\n",
       "      <td>NaN</td>\n",
       "      <td>NaN</td>\n",
       "    </tr>\n",
       "    <tr>\n",
       "      <th>2</th>\n",
       "      <td>0</td>\n",
       "      <td>0</td>\n",
       "      <td>28</td>\n",
       "      <td>0.0</td>\n",
       "      <td>29</td>\n",
       "      <td>30</td>\n",
       "      <td>8</td>\n",
       "      <td>57</td>\n",
       "      <td>NaN</td>\n",
       "      <td>NaN</td>\n",
       "      <td>...</td>\n",
       "      <td>NaN</td>\n",
       "      <td>NaN</td>\n",
       "      <td>NaN</td>\n",
       "      <td>NaN</td>\n",
       "      <td>NaN</td>\n",
       "      <td>NaN</td>\n",
       "      <td>NaN</td>\n",
       "      <td>NaN</td>\n",
       "      <td>NaN</td>\n",
       "      <td>NaN</td>\n",
       "    </tr>\n",
       "    <tr>\n",
       "      <th>3</th>\n",
       "      <td>0</td>\n",
       "      <td>0</td>\n",
       "      <td>29</td>\n",
       "      <td>0.0</td>\n",
       "      <td>29</td>\n",
       "      <td>23</td>\n",
       "      <td>5</td>\n",
       "      <td>18</td>\n",
       "      <td>NaN</td>\n",
       "      <td>NaN</td>\n",
       "      <td>...</td>\n",
       "      <td>NaN</td>\n",
       "      <td>NaN</td>\n",
       "      <td>NaN</td>\n",
       "      <td>NaN</td>\n",
       "      <td>NaN</td>\n",
       "      <td>NaN</td>\n",
       "      <td>NaN</td>\n",
       "      <td>NaN</td>\n",
       "      <td>NaN</td>\n",
       "      <td>NaN</td>\n",
       "    </tr>\n",
       "    <tr>\n",
       "      <th>4</th>\n",
       "      <td>0</td>\n",
       "      <td>0</td>\n",
       "      <td>32</td>\n",
       "      <td>6.0</td>\n",
       "      <td>29</td>\n",
       "      <td>40</td>\n",
       "      <td>11</td>\n",
       "      <td>6</td>\n",
       "      <td>NaN</td>\n",
       "      <td>NaN</td>\n",
       "      <td>...</td>\n",
       "      <td>NaN</td>\n",
       "      <td>NaN</td>\n",
       "      <td>NaN</td>\n",
       "      <td>NaN</td>\n",
       "      <td>NaN</td>\n",
       "      <td>NaN</td>\n",
       "      <td>NaN</td>\n",
       "      <td>NaN</td>\n",
       "      <td>NaN</td>\n",
       "      <td>NaN</td>\n",
       "    </tr>\n",
       "  </tbody>\n",
       "</table>\n",
       "<p>5 rows × 38 columns</p>\n",
       "</div>"
      ],
      "text/plain": [
       "   date_block_num  shop_id  item_id  item_cnt_month  city_code  \\\n",
       "0               0        0       19             0.0         29   \n",
       "1               0        0       27             0.0         29   \n",
       "2               0        0       28             0.0         29   \n",
       "3               0        0       29             0.0         29   \n",
       "4               0        0       32             6.0         29   \n",
       "\n",
       "   item_category_id  type_code  subtype_code  item_cnt_month_lag_1  \\\n",
       "0                40         11             6                   NaN   \n",
       "1                19          5            12                   NaN   \n",
       "2                30          8            57                   NaN   \n",
       "3                23          5            18                   NaN   \n",
       "4                40         11             6                   NaN   \n",
       "\n",
       "   item_cnt_month_lag_2  ...  item_cnt_month_category_avg_lag_12  \\\n",
       "0                   NaN  ...                                 NaN   \n",
       "1                   NaN  ...                                 NaN   \n",
       "2                   NaN  ...                                 NaN   \n",
       "3                   NaN  ...                                 NaN   \n",
       "4                   NaN  ...                                 NaN   \n",
       "\n",
       "   item_cnt_month_type_avg_lag_1  item_cnt_month_subtype_avg_lag_1  \\\n",
       "0                            NaN                               NaN   \n",
       "1                            NaN                               NaN   \n",
       "2                            NaN                               NaN   \n",
       "3                            NaN                               NaN   \n",
       "4                            NaN                               NaN   \n",
       "\n",
       "   item_cnt_month_city_avg_lag_1  item_cnt_month_shop_category_avg_lag_1  \\\n",
       "0                            NaN                                     NaN   \n",
       "1                            NaN                                     NaN   \n",
       "2                            NaN                                     NaN   \n",
       "3                            NaN                                     NaN   \n",
       "4                            NaN                                     NaN   \n",
       "\n",
       "   item_cnt_month_shop_type_avg_lag_1  item_cnt_month_shop_subtype_avg_lag_1  \\\n",
       "0                                 NaN                                    NaN   \n",
       "1                                 NaN                                    NaN   \n",
       "2                                 NaN                                    NaN   \n",
       "3                                 NaN                                    NaN   \n",
       "4                                 NaN                                    NaN   \n",
       "\n",
       "   item_cnt_month_item_city_avg_lag_1  delta_item_price_lag  \\\n",
       "0                                 NaN                   NaN   \n",
       "1                                 NaN                   NaN   \n",
       "2                                 NaN                   NaN   \n",
       "3                                 NaN                   NaN   \n",
       "4                                 NaN                   NaN   \n",
       "\n",
       "   delta_shop_month_revenue_lag_1  \n",
       "0                             NaN  \n",
       "1                             NaN  \n",
       "2                             NaN  \n",
       "3                             NaN  \n",
       "4                             NaN  \n",
       "\n",
       "[5 rows x 38 columns]"
      ]
     },
     "execution_count": 4,
     "metadata": {},
     "output_type": "execute_result"
    }
   ],
   "source": [
    "train_test.head(5)"
   ]
  },
  {
   "cell_type": "code",
   "execution_count": 5,
   "metadata": {},
   "outputs": [
    {
     "data": {
      "text/plain": [
       "Index(['date_block_num', 'shop_id', 'item_id', 'item_cnt_month', 'city_code',\n",
       "       'item_category_id', 'type_code', 'subtype_code', 'item_cnt_month_lag_1',\n",
       "       'item_cnt_month_lag_2', 'item_cnt_month_lag_3', 'item_cnt_month_lag_6',\n",
       "       'item_cnt_month_lag_12', 'item_cnt_month_avg_lag_1',\n",
       "       'item_cnt_month_item_avg_lag_1', 'item_cnt_month_item_avg_lag_2',\n",
       "       'item_cnt_month_item_avg_lag_3', 'item_cnt_month_item_avg_lag_6',\n",
       "       'item_cnt_month_item_avg_lag_12', 'item_cnt_month_shop_avg_lag_1',\n",
       "       'item_cnt_month_shop_avg_lag_2', 'item_cnt_month_shop_avg_lag_3',\n",
       "       'item_cnt_month_shop_avg_lag_6', 'item_cnt_month_shop_avg_lag_12',\n",
       "       'item_cnt_month_category_avg_lag_1',\n",
       "       'item_cnt_month_category_avg_lag_2',\n",
       "       'item_cnt_month_category_avg_lag_3',\n",
       "       'item_cnt_month_category_avg_lag_6',\n",
       "       'item_cnt_month_category_avg_lag_12', 'item_cnt_month_type_avg_lag_1',\n",
       "       'item_cnt_month_subtype_avg_lag_1', 'item_cnt_month_city_avg_lag_1',\n",
       "       'item_cnt_month_shop_category_avg_lag_1',\n",
       "       'item_cnt_month_shop_type_avg_lag_1',\n",
       "       'item_cnt_month_shop_subtype_avg_lag_1',\n",
       "       'item_cnt_month_item_city_avg_lag_1', 'delta_item_price_lag',\n",
       "       'delta_shop_month_revenue_lag_1'],\n",
       "      dtype='object')"
      ]
     },
     "execution_count": 5,
     "metadata": {},
     "output_type": "execute_result"
    }
   ],
   "source": [
    "train_test.columns"
   ]
  },
  {
   "cell_type": "code",
   "execution_count": 6,
   "metadata": {},
   "outputs": [
    {
     "data": {
      "text/plain": [
       "38"
      ]
     },
     "execution_count": 6,
     "metadata": {},
     "output_type": "execute_result"
    }
   ],
   "source": [
    "len(train_test.columns)"
   ]
  },
  {
   "cell_type": "code",
   "execution_count": 9,
   "metadata": {},
   "outputs": [],
   "source": [
    "train_test['item_shop_first_sale'] = train_test['date_block_num'] - train_test.groupby(['item_id', 'shop_id'])['date_block_num'].transform('min')\n",
    "train_test['item_first_sale'] = train_test['date_block_num'] - train_test.groupby(['item_id'])['date_block_num'].transform('min')"
   ]
  },
  {
   "cell_type": "code",
   "execution_count": 10,
   "metadata": {},
   "outputs": [],
   "source": [
    "train_test = train_test[train_test['date_block_num'] > 11]"
   ]
  },
  {
   "cell_type": "code",
   "execution_count": 20,
   "metadata": {},
   "outputs": [],
   "source": [
    "def fill_na(df):\n",
    "    for col in df.columns:\n",
    "        if ('lag' in col) & (df[col].isnull().any()):\n",
    "            df[col].fillna(0, inplace=True)\n",
    "    return df"
   ]
  },
  {
   "cell_type": "code",
   "execution_count": 21,
   "metadata": {},
   "outputs": [],
   "source": [
    "train_test = fill_na(train_test)"
   ]
  },
  {
   "cell_type": "code",
   "execution_count": 22,
   "metadata": {},
   "outputs": [
    {
     "data": {
      "text/plain": [
       "date_block_num                            False\n",
       "shop_id                                   False\n",
       "item_id                                   False\n",
       "item_cnt_month                            False\n",
       "city_code                                 False\n",
       "item_category_id                          False\n",
       "type_code                                 False\n",
       "subtype_code                              False\n",
       "item_cnt_month_lag_1                      False\n",
       "item_cnt_month_lag_2                      False\n",
       "item_cnt_month_lag_3                      False\n",
       "item_cnt_month_lag_6                      False\n",
       "item_cnt_month_lag_12                     False\n",
       "item_cnt_month_avg_lag_1                  False\n",
       "item_cnt_month_item_avg_lag_1             False\n",
       "item_cnt_month_item_avg_lag_2             False\n",
       "item_cnt_month_item_avg_lag_3             False\n",
       "item_cnt_month_item_avg_lag_6             False\n",
       "item_cnt_month_item_avg_lag_12            False\n",
       "item_cnt_month_shop_avg_lag_1             False\n",
       "item_cnt_month_shop_avg_lag_2             False\n",
       "item_cnt_month_shop_avg_lag_3             False\n",
       "item_cnt_month_shop_avg_lag_6             False\n",
       "item_cnt_month_shop_avg_lag_12            False\n",
       "item_cnt_month_category_avg_lag_1         False\n",
       "item_cnt_month_category_avg_lag_2         False\n",
       "item_cnt_month_category_avg_lag_3         False\n",
       "item_cnt_month_category_avg_lag_6         False\n",
       "item_cnt_month_category_avg_lag_12        False\n",
       "item_cnt_month_type_avg_lag_1             False\n",
       "item_cnt_month_subtype_avg_lag_1          False\n",
       "item_cnt_month_city_avg_lag_1             False\n",
       "item_cnt_month_shop_category_avg_lag_1    False\n",
       "item_cnt_month_shop_type_avg_lag_1        False\n",
       "item_cnt_month_shop_subtype_avg_lag_1     False\n",
       "item_cnt_month_item_city_avg_lag_1        False\n",
       "delta_item_price_lag                      False\n",
       "delta_shop_month_revenue_lag_1            False\n",
       "item_shop_first_sale                      False\n",
       "item_first_sale                           False\n",
       "dtype: bool"
      ]
     },
     "execution_count": 22,
     "metadata": {},
     "output_type": "execute_result"
    }
   ],
   "source": [
    "train_test.isnull().any()"
   ]
  },
  {
   "cell_type": "code",
   "execution_count": 24,
   "metadata": {},
   "outputs": [
    {
     "data": {
      "text/plain": [
       "array([12, 13, 14, 15, 16, 17, 18, 19, 20, 21, 22, 23, 24, 25, 26, 27, 28,\n",
       "       29, 30, 31, 32, 33])"
      ]
     },
     "execution_count": 24,
     "metadata": {},
     "output_type": "execute_result"
    }
   ],
   "source": [
    "train_test['date_block_num'].unique()"
   ]
  },
  {
   "cell_type": "code",
   "execution_count": 25,
   "metadata": {},
   "outputs": [
    {
     "data": {
      "text/plain": [
       "22"
      ]
     },
     "execution_count": 25,
     "metadata": {},
     "output_type": "execute_result"
    }
   ],
   "source": [
    "len(train_test['date_block_num'].unique())"
   ]
  },
  {
   "cell_type": "code",
   "execution_count": null,
   "metadata": {},
   "outputs": [],
   "source": []
  }
 ],
 "metadata": {
  "kernelspec": {
   "display_name": "Python 3",
   "language": "python",
   "name": "python3"
  },
  "language_info": {
   "codemirror_mode": {
    "name": "ipython",
    "version": 3
   },
   "file_extension": ".py",
   "mimetype": "text/x-python",
   "name": "python",
   "nbconvert_exporter": "python",
   "pygments_lexer": "ipython3",
   "version": "3.7.3"
  }
 },
 "nbformat": 4,
 "nbformat_minor": 4
}
