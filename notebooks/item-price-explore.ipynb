{
 "cells": [
  {
   "cell_type": "code",
   "execution_count": 1,
   "metadata": {},
   "outputs": [
    {
     "name": "stderr",
     "output_type": "stream",
     "text": [
      "/anaconda3/lib/python3.6/site-packages/lightgbm/__init__.py:46: UserWarning: Starting from version 2.2.1, the library file in distribution wheels for macOS is built by the Apple Clang (Xcode_8.3.1) compiler.\n",
      "This means that in case of installing LightGBM from PyPI via the ``pip install lightgbm`` command, you don't need to install the gcc compiler anymore.\n",
      "Instead of that, you need to install the OpenMP library, which is required for running LightGBM on the system with the Apple Clang compiler.\n",
      "You can install the OpenMP library by the following command: ``brew install libomp``.\n",
      "  \"You can install the OpenMP library by the following command: ``brew install libomp``.\", UserWarning)\n"
     ]
    }
   ],
   "source": [
    "import pandas as pd\n",
    "import numpy as np\n",
    "import matplotlib.pyplot as plt\n",
    "import seaborn as sns\n",
    "from sklearn.feature_extraction.text import CountVectorizer\n",
    "import lightgbm\n",
    "from sklearn.metrics import mean_squared_error\n",
    "import warnings\n",
    "import gc\n",
    "\n",
    "\n",
    "warnings.filterwarnings('ignore')\n",
    "np.random.seed(4590)"
   ]
  },
  {
   "cell_type": "code",
   "execution_count": 2,
   "metadata": {},
   "outputs": [],
   "source": [
    "sales_train = pd.read_csv('/Users/sinsakuokazaki/Project/pred-future-sales/\\\n",
    "input/competitive-data-science-predict-future-sales/sales_train.csv')\n",
    "item_categories = pd.read_csv('/Users/sinsakuokazaki/Project/pred-future-sales/\\\n",
    "input/competitive-data-science-predict-future-sales/item_categories.csv')\n",
    "\n",
    "items = pd.read_csv('/Users/sinsakuokazaki/Project/pred-future-sales/\\\n",
    "input/competitive-data-science-predict-future-sales/items.csv')\n",
    "\n",
    "shops = pd.read_csv('/Users/sinsakuokazaki/Project/pred-future-sales/\\\n",
    "input/competitive-data-science-predict-future-sales/shops.csv')"
   ]
  },
  {
   "cell_type": "code",
   "execution_count": 3,
   "metadata": {},
   "outputs": [
    {
     "data": {
      "text/html": [
       "<div>\n",
       "<style scoped>\n",
       "    .dataframe tbody tr th:only-of-type {\n",
       "        vertical-align: middle;\n",
       "    }\n",
       "\n",
       "    .dataframe tbody tr th {\n",
       "        vertical-align: top;\n",
       "    }\n",
       "\n",
       "    .dataframe thead th {\n",
       "        text-align: right;\n",
       "    }\n",
       "</style>\n",
       "<table border=\"1\" class=\"dataframe\">\n",
       "  <thead>\n",
       "    <tr style=\"text-align: right;\">\n",
       "      <th></th>\n",
       "      <th>date</th>\n",
       "      <th>date_block_num</th>\n",
       "      <th>shop_id</th>\n",
       "      <th>item_id</th>\n",
       "      <th>item_price</th>\n",
       "      <th>item_cnt_day</th>\n",
       "      <th>dayofweek</th>\n",
       "      <th>dayofmonth</th>\n",
       "      <th>month</th>\n",
       "      <th>quarter</th>\n",
       "      <th>year</th>\n",
       "      <th>minute</th>\n",
       "      <th>hour</th>\n",
       "      <th>total_sales</th>\n",
       "      <th>shop_name</th>\n",
       "      <th>item_name</th>\n",
       "      <th>item_category_id</th>\n",
       "      <th>item_category_name</th>\n",
       "    </tr>\n",
       "  </thead>\n",
       "  <tbody>\n",
       "    <tr>\n",
       "      <th>0</th>\n",
       "      <td>2013-01-02</td>\n",
       "      <td>0</td>\n",
       "      <td>59</td>\n",
       "      <td>22154</td>\n",
       "      <td>999.00</td>\n",
       "      <td>1.0</td>\n",
       "      <td>2</td>\n",
       "      <td>2</td>\n",
       "      <td>1</td>\n",
       "      <td>1</td>\n",
       "      <td>2013</td>\n",
       "      <td>0</td>\n",
       "      <td>0</td>\n",
       "      <td>999.00</td>\n",
       "      <td>Ярославль ТЦ \"Альтаир\"</td>\n",
       "      <td>ЯВЛЕНИЕ 2012 (BD)</td>\n",
       "      <td>37</td>\n",
       "      <td>Кино - Blu-Ray</td>\n",
       "    </tr>\n",
       "    <tr>\n",
       "      <th>1</th>\n",
       "      <td>2013-01-03</td>\n",
       "      <td>0</td>\n",
       "      <td>25</td>\n",
       "      <td>2552</td>\n",
       "      <td>899.00</td>\n",
       "      <td>1.0</td>\n",
       "      <td>3</td>\n",
       "      <td>3</td>\n",
       "      <td>1</td>\n",
       "      <td>1</td>\n",
       "      <td>2013</td>\n",
       "      <td>0</td>\n",
       "      <td>0</td>\n",
       "      <td>899.00</td>\n",
       "      <td>Москва ТРК \"Атриум\"</td>\n",
       "      <td>DEEP PURPLE  The House Of Blue Light  LP</td>\n",
       "      <td>58</td>\n",
       "      <td>Музыка - Винил</td>\n",
       "    </tr>\n",
       "    <tr>\n",
       "      <th>2</th>\n",
       "      <td>2013-01-05</td>\n",
       "      <td>0</td>\n",
       "      <td>25</td>\n",
       "      <td>2552</td>\n",
       "      <td>899.00</td>\n",
       "      <td>-1.0</td>\n",
       "      <td>5</td>\n",
       "      <td>5</td>\n",
       "      <td>1</td>\n",
       "      <td>1</td>\n",
       "      <td>2013</td>\n",
       "      <td>0</td>\n",
       "      <td>0</td>\n",
       "      <td>-899.00</td>\n",
       "      <td>Москва ТРК \"Атриум\"</td>\n",
       "      <td>DEEP PURPLE  The House Of Blue Light  LP</td>\n",
       "      <td>58</td>\n",
       "      <td>Музыка - Винил</td>\n",
       "    </tr>\n",
       "    <tr>\n",
       "      <th>3</th>\n",
       "      <td>2013-01-06</td>\n",
       "      <td>0</td>\n",
       "      <td>25</td>\n",
       "      <td>2554</td>\n",
       "      <td>1709.05</td>\n",
       "      <td>1.0</td>\n",
       "      <td>6</td>\n",
       "      <td>6</td>\n",
       "      <td>1</td>\n",
       "      <td>1</td>\n",
       "      <td>2013</td>\n",
       "      <td>0</td>\n",
       "      <td>0</td>\n",
       "      <td>1709.05</td>\n",
       "      <td>Москва ТРК \"Атриум\"</td>\n",
       "      <td>DEEP PURPLE  Who Do You Think We Are  LP</td>\n",
       "      <td>58</td>\n",
       "      <td>Музыка - Винил</td>\n",
       "    </tr>\n",
       "    <tr>\n",
       "      <th>4</th>\n",
       "      <td>2013-01-15</td>\n",
       "      <td>0</td>\n",
       "      <td>25</td>\n",
       "      <td>2555</td>\n",
       "      <td>1099.00</td>\n",
       "      <td>1.0</td>\n",
       "      <td>1</td>\n",
       "      <td>15</td>\n",
       "      <td>1</td>\n",
       "      <td>1</td>\n",
       "      <td>2013</td>\n",
       "      <td>0</td>\n",
       "      <td>0</td>\n",
       "      <td>1099.00</td>\n",
       "      <td>Москва ТРК \"Атриум\"</td>\n",
       "      <td>DEEP PURPLE 30 Very Best Of 2CD (Фирм.)</td>\n",
       "      <td>56</td>\n",
       "      <td>Музыка - CD фирменного производства</td>\n",
       "    </tr>\n",
       "  </tbody>\n",
       "</table>\n",
       "</div>"
      ],
      "text/plain": [
       "         date  date_block_num  shop_id  item_id  item_price  item_cnt_day  \\\n",
       "0  2013-01-02               0       59    22154      999.00           1.0   \n",
       "1  2013-01-03               0       25     2552      899.00           1.0   \n",
       "2  2013-01-05               0       25     2552      899.00          -1.0   \n",
       "3  2013-01-06               0       25     2554     1709.05           1.0   \n",
       "4  2013-01-15               0       25     2555     1099.00           1.0   \n",
       "\n",
       "   dayofweek  dayofmonth  month  quarter  year  minute  hour  total_sales  \\\n",
       "0          2           2      1        1  2013       0     0       999.00   \n",
       "1          3           3      1        1  2013       0     0       899.00   \n",
       "2          5           5      1        1  2013       0     0      -899.00   \n",
       "3          6           6      1        1  2013       0     0      1709.05   \n",
       "4          1          15      1        1  2013       0     0      1099.00   \n",
       "\n",
       "                shop_name                                 item_name  \\\n",
       "0  Ярославль ТЦ \"Альтаир\"                         ЯВЛЕНИЕ 2012 (BD)   \n",
       "1     Москва ТРК \"Атриум\"  DEEP PURPLE  The House Of Blue Light  LP   \n",
       "2     Москва ТРК \"Атриум\"  DEEP PURPLE  The House Of Blue Light  LP   \n",
       "3     Москва ТРК \"Атриум\"  DEEP PURPLE  Who Do You Think We Are  LP   \n",
       "4     Москва ТРК \"Атриум\"   DEEP PURPLE 30 Very Best Of 2CD (Фирм.)   \n",
       "\n",
       "   item_category_id                   item_category_name  \n",
       "0                37                       Кино - Blu-Ray  \n",
       "1                58                       Музыка - Винил  \n",
       "2                58                       Музыка - Винил  \n",
       "3                58                       Музыка - Винил  \n",
       "4                56  Музыка - CD фирменного производства  "
      ]
     },
     "execution_count": 3,
     "metadata": {},
     "output_type": "execute_result"
    }
   ],
   "source": [
    "sales_train.head()"
   ]
  },
  {
   "cell_type": "code",
   "execution_count": 4,
   "metadata": {},
   "outputs": [
    {
     "data": {
      "text/plain": [
       "shop_id  item_id  date_block_num\n",
       "42       20949    9                 31\n",
       "53       20949    9                 31\n",
       "42       20949    21                31\n",
       "28       20949    28                31\n",
       "                  24                31\n",
       "                  21                31\n",
       "                  19                31\n",
       "                  18                31\n",
       "                  16                31\n",
       "                  14                31\n",
       "                  12                31\n",
       "                  11                31\n",
       "                  9                 31\n",
       "42       20949    23                31\n",
       "                  24                31\n",
       "                  28                31\n",
       "28       20949    7                 31\n",
       "                  30                31\n",
       "                  31                31\n",
       "42       20949    19                31\n",
       "35       20949    12                31\n",
       "55       492      24                31\n",
       "21       20949    11                31\n",
       "55       492      12                31\n",
       "7        20949    23                31\n",
       "53       20949    14                31\n",
       "35       20949    11                31\n",
       "                  14                31\n",
       "42       20949    18                31\n",
       "35       20949    31                31\n",
       "                                    ..\n",
       "39       7056     31                 1\n",
       "         7060     22                 1\n",
       "         7018     20                 1\n",
       "         7067     31                 1\n",
       "                  32                 1\n",
       "         7070     16                 1\n",
       "                  17                 1\n",
       "                  18                 1\n",
       "                  20                 1\n",
       "                  24                 1\n",
       "         7052     18                 1\n",
       "         7051     14                 1\n",
       "         7050     19                 1\n",
       "         7049     22                 1\n",
       "         7018     21                 1\n",
       "                  28                 1\n",
       "         7019     15                 1\n",
       "                  16                 1\n",
       "                  31                 1\n",
       "         7020     30                 1\n",
       "         7021     16                 1\n",
       "                  23                 1\n",
       "         7029     31                 1\n",
       "                  33                 1\n",
       "         7039     29                 1\n",
       "         7047     14                 1\n",
       "                  21                 1\n",
       "         7049     17                 1\n",
       "                  18                 1\n",
       "31       7244     23                 1\n",
       "Name: item_price, Length: 1609124, dtype: int64"
      ]
     },
     "execution_count": 4,
     "metadata": {},
     "output_type": "execute_result"
    }
   ],
   "source": [
    "sales_train.groupby(['shop_id', 'item_id', 'date_block_num'])['item_price'].count().sort_values(ascending=False)"
   ]
  },
  {
   "cell_type": "code",
   "execution_count": 6,
   "metadata": {},
   "outputs": [],
   "source": [
    "unique = sales_train.groupby(['shop_id', 'item_id', 'date_block_num'])['item_price']\\\n",
    "                                .nunique().sort_values(ascending=False)"
   ]
  },
  {
   "cell_type": "code",
   "execution_count": 7,
   "metadata": {},
   "outputs": [
    {
     "data": {
      "text/plain": [
       "shop_id  item_id  date_block_num\n",
       "31       17717    22                30\n",
       "                  24                30\n",
       "                  20                28\n",
       "42       17717    22                28\n",
       "7        17717    23                28\n",
       "27       17717    19                28\n",
       "31       17717    21                28\n",
       "                  23                27\n",
       "27       17717    23                26\n",
       "42       17717    23                25\n",
       "31       17717    26                25\n",
       "27       17717    22                25\n",
       "                  24                25\n",
       "6        17717    23                24\n",
       "27       17717    21                24\n",
       "                  20                23\n",
       "12       11370    23                23\n",
       "31       17717    33                22\n",
       "12       11373    32                22\n",
       "31       17717    25                22\n",
       "24       17717    22                22\n",
       "12       11370    32                22\n",
       "24       17717    23                21\n",
       "42       17717    21                21\n",
       "7        17717    22                21\n",
       "12       11373    31                21\n",
       "         11370    27                21\n",
       "31       17717    29                21\n",
       "43       17717    22                21\n",
       "31       17717    31                21\n",
       "                                    ..\n",
       "42       18484    16                 1\n",
       "                  17                 1\n",
       "                  30                 1\n",
       "         18485    11                 1\n",
       "                  12                 1\n",
       "         18486    5                  1\n",
       "         18479    29                 1\n",
       "         18478    30                 1\n",
       "                  28                 1\n",
       "                  26                 1\n",
       "         18475    11                 1\n",
       "                  12                 1\n",
       "                  13                 1\n",
       "                  16                 1\n",
       "                  17                 1\n",
       "                  18                 1\n",
       "         18476    18                 1\n",
       "                  19                 1\n",
       "                  20                 1\n",
       "                  22                 1\n",
       "                  29                 1\n",
       "         18477    23                 1\n",
       "                  24                 1\n",
       "                  25                 1\n",
       "                  26                 1\n",
       "                  28                 1\n",
       "                  29                 1\n",
       "                  31                 1\n",
       "         18478    23                 1\n",
       "0        30       1                  1\n",
       "Name: item_price, Length: 1609124, dtype: int64"
      ]
     },
     "execution_count": 7,
     "metadata": {},
     "output_type": "execute_result"
    }
   ],
   "source": [
    "unique"
   ]
  },
  {
   "cell_type": "code",
   "execution_count": 8,
   "metadata": {},
   "outputs": [],
   "source": [
    "group = sales_train.groupby(['shop_id', 'item_id', 'date_block_num'])['item_price'].unique()"
   ]
  },
  {
   "cell_type": "code",
   "execution_count": 9,
   "metadata": {},
   "outputs": [
    {
     "data": {
      "text/plain": [
       "shop_id  item_id  date_block_num\n",
       "31       17717    22                30\n",
       "                  24                30\n",
       "                  20                28\n",
       "42       17717    22                28\n",
       "7        17717    23                28\n",
       "27       17717    19                28\n",
       "31       17717    21                28\n",
       "                  23                27\n",
       "27       17717    23                26\n",
       "42       17717    23                25\n",
       "31       17717    26                25\n",
       "27       17717    22                25\n",
       "                  24                25\n",
       "6        17717    23                24\n",
       "27       17717    21                24\n",
       "                  20                23\n",
       "12       11370    23                23\n",
       "31       17717    33                22\n",
       "12       11373    32                22\n",
       "31       17717    25                22\n",
       "24       17717    22                22\n",
       "12       11370    32                22\n",
       "24       17717    23                21\n",
       "42       17717    21                21\n",
       "7        17717    22                21\n",
       "12       11373    31                21\n",
       "         11370    27                21\n",
       "31       17717    29                21\n",
       "43       17717    22                21\n",
       "31       17717    31                21\n",
       "                                    ..\n",
       "42       18484    16                 1\n",
       "                  17                 1\n",
       "                  30                 1\n",
       "         18485    11                 1\n",
       "                  12                 1\n",
       "         18486    5                  1\n",
       "         18479    29                 1\n",
       "         18478    30                 1\n",
       "                  28                 1\n",
       "                  26                 1\n",
       "         18475    11                 1\n",
       "                  12                 1\n",
       "                  13                 1\n",
       "                  16                 1\n",
       "                  17                 1\n",
       "                  18                 1\n",
       "         18476    18                 1\n",
       "                  19                 1\n",
       "                  20                 1\n",
       "                  22                 1\n",
       "                  29                 1\n",
       "         18477    23                 1\n",
       "                  24                 1\n",
       "                  25                 1\n",
       "                  26                 1\n",
       "                  28                 1\n",
       "                  29                 1\n",
       "                  31                 1\n",
       "         18478    23                 1\n",
       "0        30       1                  1\n",
       "Name: item_price, Length: 1609124, dtype: int64"
      ]
     },
     "execution_count": 9,
     "metadata": {},
     "output_type": "execute_result"
    }
   ],
   "source": [
    "group.apply(len).sort_values(ascending=False)"
   ]
  },
  {
   "cell_type": "code",
   "execution_count": 25,
   "metadata": {},
   "outputs": [
    {
     "data": {
      "image/png": "[encoded data removed]",
      "text/plain": [
       "<Figure size 720x576 with 1 Axes>"
      ]
     },
     "metadata": {},
     "output_type": "display_data"
    },
    {
     "data": {
      "image/png": "[encoded data removed]",
      "text/plain": [
       "<Figure size 720x576 with 1 Axes>"
      ]
     },
     "metadata": {},
     "output_type": "display_data"
    }
   ],
   "source": [
    "plt.figure(figsize=(10, 8))\n",
    "sns.distplot(group[31][17717][22])\n",
    "plt.xlabel('item_price')\n",
    "plt.title(\"shop_12 vs item_id_11373\")\n",
    "plt.show()\n",
    "\n",
    "plt.figure(figsize=(10, 8))\n",
    "sns.distplot(group[31][17717][24])\n",
    "plt.xlabel('item_price')\n",
    "plt.title(\"shop_12 vs item_id_11369\")     \n",
    "plt.show()"
   ]
  },
  {
   "cell_type": "code",
   "execution_count": 11,
   "metadata": {},
   "outputs": [
    {
     "data": {
      "text/plain": [
       "shop_id  item_id\n",
       "12       11373      427\n",
       "         11369      344\n",
       "         11370      335\n",
       "31       17717      288\n",
       "27       17717      229\n",
       "42       17717      209\n",
       "12       11365      207\n",
       "7        17717      177\n",
       "6        17717      173\n",
       "12       13753      151\n",
       "22       17717      149\n",
       "4        17717      145\n",
       "25       17717      135\n",
       "24       17717      128\n",
       "38       17717      126\n",
       "28       17717      124\n",
       "35       17717      119\n",
       "26       17717      116\n",
       "21       17717      112\n",
       "47       17717      111\n",
       "12       11372      106\n",
       "54       17717      103\n",
       "53       17717      103\n",
       "46       17717      101\n",
       "59       17717      100\n",
       "48       17717       94\n",
       "15       17717       94\n",
       "16       17717       92\n",
       "5        17717       89\n",
       "43       17717       89\n",
       "                   ... \n",
       "37       14079        1\n",
       "         14058        1\n",
       "         14086        1\n",
       "         14087        1\n",
       "         14088        1\n",
       "         14091        1\n",
       "         14094        1\n",
       "         14095        1\n",
       "         14098        1\n",
       "         14060        1\n",
       "         14057        1\n",
       "         14008        1\n",
       "         14039        1\n",
       "         14009        1\n",
       "         14010        1\n",
       "         14013        1\n",
       "         14014        1\n",
       "         14017        1\n",
       "         14018        1\n",
       "         14037        1\n",
       "         14040        1\n",
       "         14054        1\n",
       "         14041        1\n",
       "         14042        1\n",
       "         14043        1\n",
       "         14044        1\n",
       "         14045        1\n",
       "         14048        1\n",
       "         14050        1\n",
       "0        30           1\n",
       "Name: item_price, Length: 424124, dtype: int64"
      ]
     },
     "execution_count": 11,
     "metadata": {},
     "output_type": "execute_result"
    }
   ],
   "source": [
    "sales_train.groupby(['shop_id', 'item_id'])['item_price'].nunique().sort_values(ascending=False)"
   ]
  },
  {
   "cell_type": "code",
   "execution_count": 12,
   "metadata": {},
   "outputs": [],
   "source": [
    "group2 = sales_train.groupby(['shop_id', 'item_id'])['item_price'].unique()"
   ]
  },
  {
   "cell_type": "code",
   "execution_count": 13,
   "metadata": {},
   "outputs": [
    {
     "data": {
      "text/plain": [
       "shop_id  item_id\n",
       "12       11373      427\n",
       "         11369      344\n",
       "         11370      335\n",
       "31       17717      288\n",
       "27       17717      229\n",
       "42       17717      209\n",
       "12       11365      207\n",
       "7        17717      177\n",
       "6        17717      173\n",
       "12       13753      151\n",
       "22       17717      149\n",
       "4        17717      145\n",
       "25       17717      135\n",
       "24       17717      128\n",
       "38       17717      126\n",
       "28       17717      124\n",
       "35       17717      119\n",
       "26       17717      116\n",
       "21       17717      112\n",
       "47       17717      111\n",
       "12       11372      106\n",
       "54       17717      103\n",
       "53       17717      103\n",
       "46       17717      101\n",
       "59       17717      100\n",
       "48       17717       94\n",
       "15       17717       94\n",
       "16       17717       92\n",
       "5        17717       89\n",
       "43       17717       89\n",
       "                   ... \n",
       "37       14079        1\n",
       "         14058        1\n",
       "         14086        1\n",
       "         14087        1\n",
       "         14088        1\n",
       "         14091        1\n",
       "         14094        1\n",
       "         14095        1\n",
       "         14098        1\n",
       "         14060        1\n",
       "         14057        1\n",
       "         14008        1\n",
       "         14039        1\n",
       "         14009        1\n",
       "         14010        1\n",
       "         14013        1\n",
       "         14014        1\n",
       "         14017        1\n",
       "         14018        1\n",
       "         14037        1\n",
       "         14040        1\n",
       "         14054        1\n",
       "         14041        1\n",
       "         14042        1\n",
       "         14043        1\n",
       "         14044        1\n",
       "         14045        1\n",
       "         14048        1\n",
       "         14050        1\n",
       "0        30           1\n",
       "Name: item_price, Length: 424124, dtype: int64"
      ]
     },
     "execution_count": 13,
     "metadata": {},
     "output_type": "execute_result"
    }
   ],
   "source": [
    "group2.apply(len).sort_values(ascending=False)"
   ]
  },
  {
   "cell_type": "code",
   "execution_count": 14,
   "metadata": {},
   "outputs": [
    {
     "data": {
      "image/png": "[encoded data removed]",
      "text/plain": [
       "<Figure size 720x576 with 1 Axes>"
      ]
     },
     "metadata": {},
     "output_type": "display_data"
    },
    {
     "data": {
      "image/png": "[encoded data removed]",
      "text/plain": [
       "<Figure size 720x576 with 1 Axes>"
      ]
     },
     "metadata": {},
     "output_type": "display_data"
    }
   ],
   "source": [
    "plt.figure(figsize=(10, 8))\n",
    "sns.distplot(group2[12][11373])\n",
    "plt.xlabel('item_price')\n",
    "plt.title(\"shop_12 vs item_id_11373\")\n",
    "plt.show()\n",
    "\n",
    "plt.figure(figsize=(10, 8))\n",
    "sns.distplot(group2[12][11369])\n",
    "plt.xlabel('item_price')\n",
    "plt.title(\"shop_12 vs item_id_11369\")     \n",
    "plt.show()"
   ]
  },
  {
   "cell_type": "code",
   "execution_count": 15,
   "metadata": {},
   "outputs": [],
   "source": [
    "group3 = sales_train.groupby('item_id')['item_price'].unique()"
   ]
  },
  {
   "cell_type": "code",
   "execution_count": 16,
   "metadata": {},
   "outputs": [
    {
     "data": {
      "text/plain": [
       "item_id\n",
       "17717    1601\n",
       "11373     427\n",
       "11369     344\n",
       "11370     335\n",
       "6675      217\n",
       "3732      215\n",
       "11365     207\n",
       "3731      198\n",
       "1855      182\n",
       "3734      166\n",
       "13753     151\n",
       "2445      147\n",
       "4244      137\n",
       "16787     129\n",
       "7805      128\n",
       "4248      127\n",
       "3733      125\n",
       "6498      123\n",
       "3556      122\n",
       "4249      121\n",
       "6457      119\n",
       "13405     115\n",
       "6495      115\n",
       "2814      112\n",
       "6497      112\n",
       "7070      111\n",
       "11372     106\n",
       "2308      106\n",
       "8093      105\n",
       "7982      104\n",
       "         ... \n",
       "9302        1\n",
       "9303        1\n",
       "9306        1\n",
       "9309        1\n",
       "9310        1\n",
       "9312        1\n",
       "9317        1\n",
       "9318        1\n",
       "9324        1\n",
       "9328        1\n",
       "9329        1\n",
       "9330        1\n",
       "9331        1\n",
       "9332        1\n",
       "9333        1\n",
       "9334        1\n",
       "9335        1\n",
       "9337        1\n",
       "9338        1\n",
       "9339        1\n",
       "9349        1\n",
       "9350        1\n",
       "9351        1\n",
       "9352        1\n",
       "9354        1\n",
       "9357        1\n",
       "9360        1\n",
       "9365        1\n",
       "9368        1\n",
       "0           1\n",
       "Name: item_price, Length: 21807, dtype: int64"
      ]
     },
     "execution_count": 16,
     "metadata": {},
     "output_type": "execute_result"
    }
   ],
   "source": [
    "group3.apply(len).sort_values(ascending=False)"
   ]
  },
  {
   "cell_type": "code",
   "execution_count": 17,
   "metadata": {},
   "outputs": [],
   "source": [
    "group4 = sales_train.groupby('shop_id')['item_price'].unique()"
   ]
  },
  {
   "cell_type": "code",
   "execution_count": 18,
   "metadata": {},
   "outputs": [
    {
     "data": {
      "text/plain": [
       "shop_id\n",
       "31    3694\n",
       "25    3241\n",
       "51    3091\n",
       "42    2695\n",
       "28    2683\n",
       "12    2524\n",
       "27    2494\n",
       "10    2482\n",
       "35    2411\n",
       "54    2346\n",
       "6     2098\n",
       "57    1918\n",
       "22    1887\n",
       "18    1810\n",
       "21    1758\n",
       "38    1750\n",
       "26    1676\n",
       "15    1631\n",
       "46    1630\n",
       "50    1601\n",
       "7     1594\n",
       "24    1592\n",
       "47    1581\n",
       "53    1467\n",
       "19    1466\n",
       "58    1451\n",
       "16    1433\n",
       "59    1428\n",
       "56    1428\n",
       "43    1411\n",
       "30    1327\n",
       "14    1320\n",
       "41    1315\n",
       "37    1274\n",
       "45    1268\n",
       "4     1258\n",
       "29    1222\n",
       "52    1203\n",
       "5     1182\n",
       "2     1114\n",
       "44    1021\n",
       "3     1021\n",
       "48     939\n",
       "17     881\n",
       "13     870\n",
       "39     813\n",
       "49     782\n",
       "0      621\n",
       "34     540\n",
       "55     519\n",
       "1      485\n",
       "9      475\n",
       "32     406\n",
       "33     379\n",
       "23     333\n",
       "11     274\n",
       "8      214\n",
       "20     185\n",
       "40     172\n",
       "36      87\n",
       "Name: item_price, dtype: int64"
      ]
     },
     "execution_count": 18,
     "metadata": {},
     "output_type": "execute_result"
    }
   ],
   "source": [
    "group4.apply(len).sort_values(ascending=False)"
   ]
  },
  {
   "cell_type": "code",
   "execution_count": 26,
   "metadata": {},
   "outputs": [
    {
     "data": {
      "image/png": "[encoded data removed]",
      "text/plain": [
       "<Figure size 720x576 with 1 Axes>"
      ]
     },
     "metadata": {},
     "output_type": "display_data"
    }
   ],
   "source": [
    "#item price outlier \n",
    "plt.figure(figsize=(10, 8))\n",
    "plt.boxplot(sales_train.item_price)\n",
    "plt.show()"
   ]
  },
  {
   "cell_type": "code",
   "execution_count": 31,
   "metadata": {},
   "outputs": [
    {
     "data": {
      "text/plain": [
       "2935846"
      ]
     },
     "execution_count": 31,
     "metadata": {},
     "output_type": "execute_result"
    }
   ],
   "source": [
    "sales_train[sales_train['item_price'] < ][\"item_price\"].count()"
   ]
  },
  {
   "cell_type": "code",
   "execution_count": 30,
   "metadata": {},
   "outputs": [
    {
     "data": {
      "text/plain": [
       "2935849"
      ]
     },
     "execution_count": 30,
     "metadata": {},
     "output_type": "execute_result"
    }
   ],
   "source": [
    "sales_train['item_price'].count()"
   ]
  },
  {
   "cell_type": "code",
   "execution_count": null,
   "metadata": {},
   "outputs": [],
   "source": []
  }
 ],
 "metadata": {
  "kernelspec": {
   "display_name": "Python 3",
   "language": "python",
   "name": "python3"
  },
  "language_info": {
   "codemirror_mode": {
    "name": "ipython",
    "version": 3
   },
   "file_extension": ".py",
   "mimetype": "text/x-python",
   "name": "python",
   "nbconvert_exporter": "python",
   "pygments_lexer": "ipython3",
   "version": "3.6.5"
  },
  "latex_envs": {
   "LaTeX_envs_menu_present": true,
   "autoclose": false,
   "autocomplete": true,
   "bibliofile": "biblio.bib",
   "cite_by": "apalike",
   "current_citInitial": 1,
   "eqLabelWithNumbers": true,
   "eqNumInitial": 1,
   "hotkeys": {
    "equation": "Ctrl-E",
    "itemize": "Ctrl-I"
   },
   "labels_anchors": false,
   "latex_user_defs": false,
   "report_style_numbering": false,
   "user_envs_cfg": false
  }
 },
 "nbformat": 4,
 "nbformat_minor": 2
}
